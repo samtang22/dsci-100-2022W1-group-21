{
 "cells": [
  {
   "cell_type": "markdown",
   "id": "f5bab802-ba88-4b58-9614-4b203aa4aa8d",
   "metadata": {},
   "source": [
    "<center><h2>DSCI 100 Group Project Report</h2></center>\n",
    "<div style=\"text-align: right\"> DSCI 100 008 </div>\n",
    "<div style=\"text-align: right\"> Group 21 </div>\n",
    "<div style=\"text-align: right\"> Ellie Wakefield </div>\n",
    "<div style=\"text-align: right\"> Ryan Lee </div>\n",
    "<div style=\"text-align: right\"> Samantha Tang </div>\n",
    "<div style=\"text-align: right\"> Soumil Ahuja </div>"
   ]
  },
  {
   "cell_type": "code",
   "execution_count": null,
   "id": "fb488871-d5f0-48c9-ae5f-275a36e82aad",
   "metadata": {},
   "outputs": [],
   "source": []
  },
  {
   "cell_type": "markdown",
   "id": "530a2e5c-c558-4788-85c7-abb8835a2fd0",
   "metadata": {},
   "source": [
    "<h3>Introduction</h3>\n",
    "&nbsp;&nbsp;&nbsp;&nbsp;&nbsp;&nbsp;\n",
    "The Heart Disease “Cleveland data set” obtained from the UCI Machine Learning Repository will be used to predict the presence of heart disease. This dataset measures 66 different variables pertaining to heart disease for 303 participants. In order to determine the presence of heart disease, the dataset uses angiographic status. An angiography is recommended for patients that suffer from angina (chest pain) and is used to determine whether or not someone has heart disease. While the dataset classifies the angiography results into 4 levels of severity, we will simplify this and only look at whether heart disease is present (1) or absent (0)."
   ]
  },
  {
   "cell_type": "markdown",
   "id": "ab169b69-30fb-455d-b492-b901c776b99c",
   "metadata": {},
   "source": [
    "<h3>Preliminary Exploratory Data Analysis</h3>"
   ]
  },
  {
   "cell_type": "code",
   "execution_count": 1,
   "id": "e63733a6-aeff-40d7-9d86-30f92356a0ac",
   "metadata": {
    "tags": []
   },
   "outputs": [
    {
     "name": "stderr",
     "output_type": "stream",
     "text": [
      "── \u001b[1mAttaching packages\u001b[22m ─────────────────────────────────────── tidyverse 1.3.1 ──\n",
      "\n",
      "\u001b[32m✔\u001b[39m \u001b[34mggplot2\u001b[39m 3.3.6     \u001b[32m✔\u001b[39m \u001b[34mpurrr  \u001b[39m 0.3.4\n",
      "\u001b[32m✔\u001b[39m \u001b[34mtibble \u001b[39m 3.1.7     \u001b[32m✔\u001b[39m \u001b[34mdplyr  \u001b[39m 1.0.9\n",
      "\u001b[32m✔\u001b[39m \u001b[34mtidyr  \u001b[39m 1.2.0     \u001b[32m✔\u001b[39m \u001b[34mstringr\u001b[39m 1.4.0\n",
      "\u001b[32m✔\u001b[39m \u001b[34mreadr  \u001b[39m 2.1.2     \u001b[32m✔\u001b[39m \u001b[34mforcats\u001b[39m 0.5.1\n",
      "\n",
      "── \u001b[1mConflicts\u001b[22m ────────────────────────────────────────── tidyverse_conflicts() ──\n",
      "\u001b[31m✖\u001b[39m \u001b[34mdplyr\u001b[39m::\u001b[32mfilter()\u001b[39m masks \u001b[34mstats\u001b[39m::filter()\n",
      "\u001b[31m✖\u001b[39m \u001b[34mdplyr\u001b[39m::\u001b[32mlag()\u001b[39m    masks \u001b[34mstats\u001b[39m::lag()\n",
      "\n",
      "── \u001b[1mAttaching packages\u001b[22m ────────────────────────────────────── tidymodels 1.0.0 ──\n",
      "\n",
      "\u001b[32m✔\u001b[39m \u001b[34mbroom       \u001b[39m 1.0.0     \u001b[32m✔\u001b[39m \u001b[34mrsample     \u001b[39m 1.0.0\n",
      "\u001b[32m✔\u001b[39m \u001b[34mdials       \u001b[39m 1.0.0     \u001b[32m✔\u001b[39m \u001b[34mtune        \u001b[39m 1.0.0\n",
      "\u001b[32m✔\u001b[39m \u001b[34minfer       \u001b[39m 1.0.2     \u001b[32m✔\u001b[39m \u001b[34mworkflows   \u001b[39m 1.0.0\n",
      "\u001b[32m✔\u001b[39m \u001b[34mmodeldata   \u001b[39m 1.0.0     \u001b[32m✔\u001b[39m \u001b[34mworkflowsets\u001b[39m 1.0.0\n",
      "\u001b[32m✔\u001b[39m \u001b[34mparsnip     \u001b[39m 1.0.0     \u001b[32m✔\u001b[39m \u001b[34myardstick   \u001b[39m 1.0.0\n",
      "\u001b[32m✔\u001b[39m \u001b[34mrecipes     \u001b[39m 1.0.1     \n",
      "\n",
      "── \u001b[1mConflicts\u001b[22m ───────────────────────────────────────── tidymodels_conflicts() ──\n",
      "\u001b[31m✖\u001b[39m \u001b[34mscales\u001b[39m::\u001b[32mdiscard()\u001b[39m masks \u001b[34mpurrr\u001b[39m::discard()\n",
      "\u001b[31m✖\u001b[39m \u001b[34mdplyr\u001b[39m::\u001b[32mfilter()\u001b[39m   masks \u001b[34mstats\u001b[39m::filter()\n",
      "\u001b[31m✖\u001b[39m \u001b[34mrecipes\u001b[39m::\u001b[32mfixed()\u001b[39m  masks \u001b[34mstringr\u001b[39m::fixed()\n",
      "\u001b[31m✖\u001b[39m \u001b[34mdplyr\u001b[39m::\u001b[32mlag()\u001b[39m      masks \u001b[34mstats\u001b[39m::lag()\n",
      "\u001b[31m✖\u001b[39m \u001b[34myardstick\u001b[39m::\u001b[32mspec()\u001b[39m masks \u001b[34mreadr\u001b[39m::spec()\n",
      "\u001b[31m✖\u001b[39m \u001b[34mrecipes\u001b[39m::\u001b[32mstep()\u001b[39m   masks \u001b[34mstats\u001b[39m::step()\n",
      "\u001b[34m•\u001b[39m Search for functions across packages at \u001b[32mhttps://www.tidymodels.org/find/\u001b[39m\n",
      "\n"
     ]
    }
   ],
   "source": [
    "library(tidyverse)\n",
    "library(repr)\n",
    "library(tidymodels)\n",
    "options(repr.matrix.max.rows = 6)"
   ]
  },
  {
   "cell_type": "code",
   "execution_count": 2,
   "id": "5915c75e-67d2-4b0d-8808-52c8f268bf82",
   "metadata": {},
   "outputs": [
    {
     "name": "stderr",
     "output_type": "stream",
     "text": [
      "\u001b[1mRows: \u001b[22m\u001b[34m303\u001b[39m \u001b[1mColumns: \u001b[22m\u001b[34m14\u001b[39m\n",
      "\u001b[36m──\u001b[39m \u001b[1mColumn specification\u001b[22m \u001b[36m────────────────────────────────────────────────────────\u001b[39m\n",
      "\u001b[1mDelimiter:\u001b[22m \",\"\n",
      "\u001b[31mchr\u001b[39m  (2): X12, X13\n",
      "\u001b[32mdbl\u001b[39m (12): X1, X2, X3, X4, X5, X6, X7, X8, X9, X10, X11, X14\n",
      "\n",
      "\u001b[36mℹ\u001b[39m Use `spec()` to retrieve the full column specification for this data.\n",
      "\u001b[36mℹ\u001b[39m Specify the column types or set `show_col_types = FALSE` to quiet this message.\n"
     ]
    },
    {
     "data": {
      "text/html": [
       "<table class=\"dataframe\">\n",
       "<caption>A tibble: 303 × 7</caption>\n",
       "<thead>\n",
       "\t<tr><th scope=col>age</th><th scope=col>sex</th><th scope=col>resting_blood_pressure</th><th scope=col>serum_cholesteral</th><th scope=col>resting_electrocardiographic_results</th><th scope=col>exercise_induced_angina</th><th scope=col>heart_disease_presence</th></tr>\n",
       "\t<tr><th scope=col>&lt;dbl&gt;</th><th scope=col>&lt;dbl&gt;</th><th scope=col>&lt;dbl&gt;</th><th scope=col>&lt;dbl&gt;</th><th scope=col>&lt;dbl&gt;</th><th scope=col>&lt;dbl&gt;</th><th scope=col>&lt;fct&gt;</th></tr>\n",
       "</thead>\n",
       "<tbody>\n",
       "\t<tr><td>63</td><td>1</td><td>145</td><td>233</td><td>2</td><td>0</td><td>0</td></tr>\n",
       "\t<tr><td>67</td><td>1</td><td>160</td><td>286</td><td>2</td><td>1</td><td>1</td></tr>\n",
       "\t<tr><td>67</td><td>1</td><td>120</td><td>229</td><td>2</td><td>1</td><td>1</td></tr>\n",
       "\t<tr><td>⋮</td><td>⋮</td><td>⋮</td><td>⋮</td><td>⋮</td><td>⋮</td><td>⋮</td></tr>\n",
       "\t<tr><td>57</td><td>1</td><td>130</td><td>131</td><td>0</td><td>1</td><td>1</td></tr>\n",
       "\t<tr><td>57</td><td>0</td><td>130</td><td>236</td><td>2</td><td>0</td><td>1</td></tr>\n",
       "\t<tr><td>38</td><td>1</td><td>138</td><td>175</td><td>0</td><td>0</td><td>0</td></tr>\n",
       "</tbody>\n",
       "</table>\n"
      ],
      "text/latex": [
       "A tibble: 303 × 7\n",
       "\\begin{tabular}{lllllll}\n",
       " age & sex & resting\\_blood\\_pressure & serum\\_cholesteral & resting\\_electrocardiographic\\_results & exercise\\_induced\\_angina & heart\\_disease\\_presence\\\\\n",
       " <dbl> & <dbl> & <dbl> & <dbl> & <dbl> & <dbl> & <fct>\\\\\n",
       "\\hline\n",
       "\t 63 & 1 & 145 & 233 & 2 & 0 & 0\\\\\n",
       "\t 67 & 1 & 160 & 286 & 2 & 1 & 1\\\\\n",
       "\t 67 & 1 & 120 & 229 & 2 & 1 & 1\\\\\n",
       "\t ⋮ & ⋮ & ⋮ & ⋮ & ⋮ & ⋮ & ⋮\\\\\n",
       "\t 57 & 1 & 130 & 131 & 0 & 1 & 1\\\\\n",
       "\t 57 & 0 & 130 & 236 & 2 & 0 & 1\\\\\n",
       "\t 38 & 1 & 138 & 175 & 0 & 0 & 0\\\\\n",
       "\\end{tabular}\n"
      ],
      "text/markdown": [
       "\n",
       "A tibble: 303 × 7\n",
       "\n",
       "| age &lt;dbl&gt; | sex &lt;dbl&gt; | resting_blood_pressure &lt;dbl&gt; | serum_cholesteral &lt;dbl&gt; | resting_electrocardiographic_results &lt;dbl&gt; | exercise_induced_angina &lt;dbl&gt; | heart_disease_presence &lt;fct&gt; |\n",
       "|---|---|---|---|---|---|---|\n",
       "| 63 | 1 | 145 | 233 | 2 | 0 | 0 |\n",
       "| 67 | 1 | 160 | 286 | 2 | 1 | 1 |\n",
       "| 67 | 1 | 120 | 229 | 2 | 1 | 1 |\n",
       "| ⋮ | ⋮ | ⋮ | ⋮ | ⋮ | ⋮ | ⋮ |\n",
       "| 57 | 1 | 130 | 131 | 0 | 1 | 1 |\n",
       "| 57 | 0 | 130 | 236 | 2 | 0 | 1 |\n",
       "| 38 | 1 | 138 | 175 | 0 | 0 | 0 |\n",
       "\n"
      ],
      "text/plain": [
       "    age sex resting_blood_pressure serum_cholesteral\n",
       "1   63  1   145                    233              \n",
       "2   67  1   160                    286              \n",
       "3   67  1   120                    229              \n",
       "⋮   ⋮   ⋮   ⋮                      ⋮                \n",
       "301 57  1   130                    131              \n",
       "302 57  0   130                    236              \n",
       "303 38  1   138                    175              \n",
       "    resting_electrocardiographic_results exercise_induced_angina\n",
       "1   2                                    0                      \n",
       "2   2                                    1                      \n",
       "3   2                                    1                      \n",
       "⋮   ⋮                                    ⋮                      \n",
       "301 0                                    1                      \n",
       "302 2                                    0                      \n",
       "303 0                                    0                      \n",
       "    heart_disease_presence\n",
       "1   0                     \n",
       "2   1                     \n",
       "3   1                     \n",
       "⋮   ⋮                     \n",
       "301 1                     \n",
       "302 1                     \n",
       "303 0                     "
      ]
     },
     "metadata": {},
     "output_type": "display_data"
    }
   ],
   "source": [
    "#loading data frame, assigning column names, changing angina column to factor type, & selecting the columns we need\n",
    "heart_data <- read_csv(url(\"https://archive.ics.uci.edu/ml/machine-learning-databases/heart-disease/processed.cleveland.data\"), col_names = FALSE) |>\n",
    "    rename(age=X1, sex=X2,chest_pain_type=X3, resting_blood_pressure=X4, serum_cholesteral=X5, fasting_blood_sugar=X6,\n",
    "           resting_electrocardiographic_results=X7, max_heart_rate=X8, exercise_induced_angina=X9, ST_depression=X10,\n",
    "           slope=X11, number_vessels=X12, thal=X13, angiographic_status=X14) |>\n",
    "    select(age, sex, resting_blood_pressure, serum_cholesteral, resting_electrocardiographic_results, exercise_induced_angina, angiographic_status)\n",
    "\n",
    "#Create a new row to simplify\n",
    "#angiographic_status of 0 means no presence of heart disease\n",
    "#angiographic_status of more than 0 means heart disease\n",
    "heart_data[\"heart_disease_presence\"] <- 0\n",
    "for(i in 1:nrow(heart_data)) {\n",
    "    if(heart_data[i, ncol(heart_data)-1] == 0) {\n",
    "        heart_data[i, ncol(heart_data)] <- 0\n",
    "    } else {\n",
    "        heart_data[i, ncol(heart_data)] <- 1\n",
    "    }    \n",
    "}\n",
    "#no longer need angiograpic_status\n",
    "heart_data <- heart_data |>\n",
    "    select(-angiographic_status) |>\n",
    "    mutate(heart_disease_presence = as.factor(heart_disease_presence))\n",
    "heart_data "
   ]
  },
  {
   "cell_type": "code",
   "execution_count": 22,
   "id": "f5617d45-c451-42a8-9a6f-34c364088924",
   "metadata": {},
   "outputs": [
    {
     "name": "stderr",
     "output_type": "stream",
     "text": [
      "\u001b[1m\u001b[22m`summarise()` has grouped output by 'heart_disease_presence'. You can override\n",
      "using the `.groups` argument.\n"
     ]
    },
    {
     "name": "stdout",
     "output_type": "stream",
     "text": [
      "[1] \"Summary table of heart disease presence by sex\"\n"
     ]
    },
    {
     "data": {
      "text/html": [
       "<table class=\"dataframe\">\n",
       "<caption>A grouped_df: 4 × 7</caption>\n",
       "<thead>\n",
       "\t<tr><th scope=col>heart_disease_presence</th><th scope=col>sex_letter</th><th scope=col>mean_age</th><th scope=col>mean_cholesteral</th><th scope=col>n</th><th scope=col>total</th><th scope=col>proportion</th></tr>\n",
       "\t<tr><th scope=col>&lt;fct&gt;</th><th scope=col>&lt;chr&gt;</th><th scope=col>&lt;dbl&gt;</th><th scope=col>&lt;dbl&gt;</th><th scope=col>&lt;int&gt;</th><th scope=col>&lt;dbl&gt;</th><th scope=col>&lt;dbl&gt;</th></tr>\n",
       "</thead>\n",
       "<tbody>\n",
       "\t<tr><td>0</td><td>F</td><td>54.6</td><td>257</td><td> 72</td><td> 97</td><td>0.7422680</td></tr>\n",
       "\t<tr><td>0</td><td>M</td><td>51.0</td><td>232</td><td> 92</td><td>206</td><td>0.4466019</td></tr>\n",
       "\t<tr><td>1</td><td>F</td><td>59.1</td><td>276</td><td> 25</td><td> 97</td><td>0.2577320</td></tr>\n",
       "\t<tr><td>1</td><td>M</td><td>56.1</td><td>246</td><td>114</td><td>206</td><td>0.5533981</td></tr>\n",
       "</tbody>\n",
       "</table>\n"
      ],
      "text/latex": [
       "A grouped\\_df: 4 × 7\n",
       "\\begin{tabular}{lllllll}\n",
       " heart\\_disease\\_presence & sex\\_letter & mean\\_age & mean\\_cholesteral & n & total & proportion\\\\\n",
       " <fct> & <chr> & <dbl> & <dbl> & <int> & <dbl> & <dbl>\\\\\n",
       "\\hline\n",
       "\t 0 & F & 54.6 & 257 &  72 &  97 & 0.7422680\\\\\n",
       "\t 0 & M & 51.0 & 232 &  92 & 206 & 0.4466019\\\\\n",
       "\t 1 & F & 59.1 & 276 &  25 &  97 & 0.2577320\\\\\n",
       "\t 1 & M & 56.1 & 246 & 114 & 206 & 0.5533981\\\\\n",
       "\\end{tabular}\n"
      ],
      "text/markdown": [
       "\n",
       "A grouped_df: 4 × 7\n",
       "\n",
       "| heart_disease_presence &lt;fct&gt; | sex_letter &lt;chr&gt; | mean_age &lt;dbl&gt; | mean_cholesteral &lt;dbl&gt; | n &lt;int&gt; | total &lt;dbl&gt; | proportion &lt;dbl&gt; |\n",
       "|---|---|---|---|---|---|---|\n",
       "| 0 | F | 54.6 | 257 |  72 |  97 | 0.7422680 |\n",
       "| 0 | M | 51.0 | 232 |  92 | 206 | 0.4466019 |\n",
       "| 1 | F | 59.1 | 276 |  25 |  97 | 0.2577320 |\n",
       "| 1 | M | 56.1 | 246 | 114 | 206 | 0.5533981 |\n",
       "\n"
      ],
      "text/plain": [
       "  heart_disease_presence sex_letter mean_age mean_cholesteral n   total\n",
       "1 0                      F          54.6     257               72  97  \n",
       "2 0                      M          51.0     232               92 206  \n",
       "3 1                      F          59.1     276               25  97  \n",
       "4 1                      M          56.1     246              114 206  \n",
       "  proportion\n",
       "1 0.7422680 \n",
       "2 0.4466019 \n",
       "3 0.2577320 \n",
       "4 0.5533981 "
      ]
     },
     "metadata": {},
     "output_type": "display_data"
    }
   ],
   "source": [
    "#converts numerical sex value into a letter eg 0 -> F. Creates a new column for it\n",
    "#done purely for the charts - F/M easier to read than 0/1\n",
    "temp_heart_data <- heart_data\n",
    "temp_heart_data[\"sex_letter\"] <- NA\n",
    "for(i in 1:nrow(temp_heart_data)) {\n",
    "    if(temp_heart_data[i, 2] == 0) {\n",
    "        temp_heart_data[i, ncol(temp_heart_data)] <- \"F\"\n",
    "    } else {\n",
    "        temp_heart_data[i, ncol(temp_heart_data)] <- \"M\"\n",
    "    }    \n",
    "}\n",
    "\n",
    "#Table of mean age and cholesteral for each heart disease presence/sex combination\n",
    "mean_age_angiographic <- temp_heart_data |> \n",
    "    group_by(heart_disease_presence, sex_letter) |>\n",
    "    summarize(mean_age=round(mean(age),1), mean_cholesteral = round(mean(serum_cholesteral)), n=n())\n",
    "\n",
    "#is there a better way to label the table?\n",
    "print(\"Summary table of heart disease presence by sex\")\n",
    "mean_age_proportions <- mean_age_angiographic |>\n",
    "    mutate(total = c(97, 206)) |>\n",
    "    mutate(proportion = n/total)\n",
    "mean_age_proportions"
   ]
  },
  {
   "cell_type": "markdown",
   "id": "8b6c070f-93a6-4fdf-b85f-62dd4a6f526c",
   "metadata": {},
   "source": [
    "In this summary table, we can see the numbers of males and females both with and without presence of heart disease, respectively. We can also see the proportions: around 25.8% of females in the data set had heart disease, while around 55.3% of males in the data set had heart disease. This table also shows us the average ages and cholesteral levels for each four categories \n",
    "find that there are 55 women without heart disease, 68 men without heart disease, 18 women with heart disease, and 86 men with heart disease. It is hard to interpret these numbers without finding proportions or visualizing the numbers, so next we will create a visualization to help us do this. "
   ]
  },
  {
   "cell_type": "code",
   "execution_count": 23,
   "id": "5faaa583-72ff-4f2d-9c89-41caef3d26ed",
   "metadata": {},
   "outputs": [
    {
     "name": "stderr",
     "output_type": "stream",
     "text": [
      "\u001b[1m\u001b[22m`summarise()` has grouped output by 'sex_letter'. You can override using the\n",
      "`.groups` argument.\n"
     ]
    },
    {
     "data": {
      "text/html": [
       "<table class=\"dataframe\">\n",
       "<caption>A grouped_df: 4 × 3</caption>\n",
       "<thead>\n",
       "\t<tr><th scope=col>sex_letter</th><th scope=col>heart_disease_presence</th><th scope=col>n</th></tr>\n",
       "\t<tr><th scope=col>&lt;chr&gt;</th><th scope=col>&lt;fct&gt;</th><th scope=col>&lt;int&gt;</th></tr>\n",
       "</thead>\n",
       "<tbody>\n",
       "\t<tr><td>F</td><td>0</td><td> 72</td></tr>\n",
       "\t<tr><td>F</td><td>1</td><td> 25</td></tr>\n",
       "\t<tr><td>M</td><td>0</td><td> 92</td></tr>\n",
       "\t<tr><td>M</td><td>1</td><td>114</td></tr>\n",
       "</tbody>\n",
       "</table>\n"
      ],
      "text/latex": [
       "A grouped\\_df: 4 × 3\n",
       "\\begin{tabular}{lll}\n",
       " sex\\_letter & heart\\_disease\\_presence & n\\\\\n",
       " <chr> & <fct> & <int>\\\\\n",
       "\\hline\n",
       "\t F & 0 &  72\\\\\n",
       "\t F & 1 &  25\\\\\n",
       "\t M & 0 &  92\\\\\n",
       "\t M & 1 & 114\\\\\n",
       "\\end{tabular}\n"
      ],
      "text/markdown": [
       "\n",
       "A grouped_df: 4 × 3\n",
       "\n",
       "| sex_letter &lt;chr&gt; | heart_disease_presence &lt;fct&gt; | n &lt;int&gt; |\n",
       "|---|---|---|\n",
       "| F | 0 |  72 |\n",
       "| F | 1 |  25 |\n",
       "| M | 0 |  92 |\n",
       "| M | 1 | 114 |\n",
       "\n"
      ],
      "text/plain": [
       "  sex_letter heart_disease_presence n  \n",
       "1 F          0                       72\n",
       "2 F          1                       25\n",
       "3 M          0                       92\n",
       "4 M          1                      114"
      ]
     },
     "metadata": {},
     "output_type": "display_data"
    },
    {
     "data": {
      "image/png": "[encoded data removed]",
      "text/plain": [
       "plot without title"
      ]
     },
     "metadata": {
      "image/png": {
       "height": 540,
       "width": 480
      }
     },
     "output_type": "display_data"
    }
   ],
   "source": [
    "#Uses modified dataset purely for graphs/charts\n",
    "#counts number of people in each sex/heart disease presence combination\n",
    "temp_heart_data <- temp_heart_data |>\n",
    "    group_by(sex_letter, heart_disease_presence) |>\n",
    "    summarize(n=n())\n",
    "\n",
    "temp_heart_data <- temp_heart_data |>\n",
    "    mutate(heart_disease_presence = as.factor(heart_disease_presence))\n",
    "temp_heart_data\n",
    "options(repr.plot.width = 8, repr.plot.height = 9)\n",
    "heart_plot <- temp_heart_data |> \n",
    "    ggplot(aes(x = sex_letter, y = n, fill = heart_disease_presence)) +\n",
    "    geom_bar(stat = \"identity\", position = \"dodge\") +\n",
    "    xlab(\"Sex\") +\n",
    "    ylab(\"Number of People\") +\n",
    "    labs(fill = \"Heart Disease Presence\")+\n",
    "    ggtitle(\"Proportion of Heart Disease Based on Sex\")\n",
    "heart_plot"
   ]
  },
  {
   "cell_type": "markdown",
   "id": "30869299-ec08-4b24-b2d3-c1b69d9ff31c",
   "metadata": {},
   "source": [
    "We chose to use a bar plot to depict the presence of heart disease among males and females because it helps us to visually compare the difference in heart disease presence by sex. We can see in the visualization that men appear to have higher rates of heart disease based on this data. "
   ]
  },
  {
   "cell_type": "markdown",
   "id": "e6260c5e-0b16-40b8-8b92-84d6f17538d3",
   "metadata": {},
   "source": [
    "<h3>Methods</h3>\n",
    "&nbsp;&nbsp;&nbsp;&nbsp;&nbsp;&nbsp;\n",
    "In order to train our K-nearest neighbor classifier, we will use age, maximum heart rate, chest pain type, cholesterol, resting blood pressure, and gender as predictors. All these variables were chosen due to their correlation with heart disease. The Cleveland Data Set will be used, and will be split up into a training and a testing group with a 75/25 split. In order to pick the correct number for K, we will show a graph plotting the number of neighbors versus accuracy estimates. We will then show a confusion matrix using the K result with the highest accuracy, allowing us to better visualize which types of errors were made by the classifier."
   ]
  },
  {
   "cell_type": "markdown",
   "id": "17f8fcfe-dd6f-4061-a0ac-34b9cddfde19",
   "metadata": {},
   "source": [
    "<h3>Expected Outcomes and Significance</h3>\n",
    "&nbsp;&nbsp;&nbsp;&nbsp;&nbsp;&nbsp;\n",
    "We expect that after using each of the predators, we can create a model that can classify the presence or absence of heart disease. Each of the predictors we use should have a correlation to the presence of heart disease, but certain predictors such as cholesterol and angina will have a stronger relationship with heart disease. \n",
    "\n",
    "<br />&nbsp;&nbsp;&nbsp;&nbsp;&nbsp;&nbsp;\n",
    "If the classifier has a sufficiently high accuracy rate, it may be immensely helpful in predicting whether patients have heart disease. Patients can also determine symptoms that relate to heart disease and be more aware of the risks due their personal status. The results from this classifier and dataset can potentially act as a preventative measure to knowing which factors are highly correlated to heart disease. In addition, it could encourage some to pay closer attention to their health and lifestyle habits. For others with declining health, this classifier could classify heart disease while it is still in early stages. Future projects could focus on which variables better predict heart disease. While our predictors are the ones chosen for this classification analysis, other correlated variables could be used as well. Other projects could also focus on classifying all 4 levels of heart disease progression. "
   ]
  },
  {
   "cell_type": "code",
   "execution_count": null,
   "id": "395e9245-691b-492d-8690-5de203888d2a",
   "metadata": {},
   "outputs": [],
   "source": []
  },
  {
   "cell_type": "markdown",
   "id": "62b17847-35ae-4f1a-9ed2-f4e8a6fb088c",
   "metadata": {},
   "source": [
    "<h1>going to do all the classifier stuff over here for now so i don't get it confused with the proposal</h1>"
   ]
  },
  {
   "cell_type": "code",
   "execution_count": null,
   "id": "ad537f98-67b4-4b17-8243-55a616446e47",
   "metadata": {},
   "outputs": [],
   "source": [
    "library(GGally)\n",
    "heart_data <- read_csv(url(\"https://archive.ics.uci.edu/ml/machine-learning-databases/heart-disease/processed.cleveland.data\"), col_names = FALSE) |>\n",
    "    rename(age=X1, sex=X2,chest_pain_type=X3, resting_blood_pressure=X4, serum_cholesteral=X5, fasting_blood_sugar=X6,\n",
    "           resting_electrocardiographic_results=X7, max_heart_rate=X8, exercise_induced_angina=X9, ST_depression=X10,\n",
    "           slope=X11, number_vessels=X12, thal=X13, angiographic_status=X14) |>\n",
    "    mutate(number_vessels=as.double(number_vessels)) |>\n",
    "    mutate(thal=as.double(thal))\n",
    "heart_data[\"heart_disease_presence\"] <- 0\n",
    "for(i in 1:nrow(heart_data)) {\n",
    "    if(heart_data[i, ncol(heart_data)-1] == 0) {\n",
    "        heart_data[i, ncol(heart_data)] <- 0\n",
    "    } else {\n",
    "        heart_data[i, ncol(heart_data)] <- 1\n",
    "    }    \n",
    "}"
   ]
  },
  {
   "cell_type": "code",
   "execution_count": null,
   "id": "2256b824-eb83-4d15-a4d0-da8c2aa00917",
   "metadata": {},
   "outputs": [],
   "source": [
    "ggpairs(heart_data |> \n",
    "    na.omit())"
   ]
  },
  {
   "cell_type": "code",
   "execution_count": null,
   "id": "53d79124-270e-4937-9a1f-b85f2c29f3fb",
   "metadata": {},
   "outputs": [],
   "source": [
    "heart_data <- heart_data |>\n",
    "    select(chest_pain_type,max_heart_rate,exercise_induced_angina,ST_depression,number_vessels,thal,heart_disease_presence) |>\n",
    "    na.omit()\n",
    "ggpairs(heart_data)\n",
    "heart_data <- heart_data |>\n",
    "    mutate(heart_disease_presence=as.factor(heart_disease_presence))\n",
    "heart_data"
   ]
  },
  {
   "cell_type": "code",
   "execution_count": null,
   "id": "07dc7a30-2f96-4ad0-a9a4-10644a2ccdfd",
   "metadata": {},
   "outputs": [],
   "source": [
    "par(mfrow=c(1,2))\n",
    "options(repr.plot.width = 12, repr.plot.height = 7)\n",
    "heart_mosaic_vessels <- mosaicplot(heart_disease_presence~number_vessels, \n",
    "                           data = heart_data, \n",
    "                           col = c(\"deeppink\", \"firebrick1\", \"darkorange1\", \"gold1\"), \n",
    "                           main = \"Number of vessels by heart disease presence\",\n",
    "                          xlab = \"Heart disease presence\",\n",
    "                          ylab = \"Number of major vessels\",\n",
    "                          las = 1)\n",
    "heart_mosaic_thal <- mosaicplot(data = heart_data,\n",
    "                               heart_disease_presence ~ thal, \n",
    "                               col = c(\"deeppink\", \"firebrick1\", \"darkorange1\", \"gold1\"),\n",
    "                               main = \"Number of vessels by inherited blood disorder status\",\n",
    "                               xlab = \"Heart disease presence\",\n",
    "                               ylab = \"Blood disorder status\",\n",
    "                               las = 1)"
   ]
  },
  {
   "cell_type": "code",
   "execution_count": null,
   "id": "4f1337d1-a9c8-43b3-a80e-082f86c2f0ab",
   "metadata": {},
   "outputs": [],
   "source": [
    "options(repr.plot.width = 8, repr.plot.height = 7)\n",
    "heart_data_summarized <- heart_data |> \n",
    "    select(max_heart_rate, heart_disease_presence) |> \n",
    "    group_by(heart_disease_presence) |>\n",
    "    summarize(mean = mean(max_heart_rate))\n",
    "heart_data_summarized\n",
    "heart_rate_graph <- ggplot(heart_data_summarized, aes(y = mean, x = heart_disease_presence, fill = heart_disease_presence)) + \n",
    "    geom_bar(stat = \"identity\", fill = c(\"deeppink\", \"firebrick1\")) + \n",
    "    labs(x = \"Heart disease presence\", y = \"Average maximum heart rate (BPM)\", fill = \"Heart disease presence\") + \n",
    "    theme(text = element_text(size = 16)) + \n",
    "    ggtitle(\"Average max heart rate and heart disease presence\") \n",
    "heart_rate_graph"
   ]
  },
  {
   "cell_type": "code",
   "execution_count": null,
   "id": "78ea68b2-8faa-42cc-a2fe-a0a91a2ebab5",
   "metadata": {},
   "outputs": [],
   "source": [
    "set.seed(1)\n",
    "heart_split <- initial_split(heart_data, prop = 0.75, strata = heart_disease_presence)\n",
    "heart_train <- training(heart_split)\n",
    "heart_test <- testing(heart_split)\n",
    "\n",
    "heart_recipe <- recipe(heart_disease_presence ~., data = heart_train) |>\n",
    "    step_scale(all_predictors()) |>\n",
    "    step_center(all_predictors())\n",
    "heart_spec <- nearest_neighbor(weight_func = \"rectangular\", neighbors = tune()) |>\n",
    "    set_engine(\"kknn\") |>\n",
    "    set_mode(\"classification\")\n",
    "\n",
    "heart_vfold <- vfold_cv(heart_train, v = 10, strata = heart_disease_presence)\n",
    "\n",
    "heart_results <- workflow() |>\n",
    "    add_recipe(heart_recipe) |>\n",
    "    add_model(heart_spec) |>\n",
    "    tune_grid(resamples = heart_vfold, grid = 25) |>\n",
    "    collect_metrics()\n",
    "#heart_results\n",
    "accuracies <- heart_results |>\n",
    "    filter(.metric == \"accuracy\")\n",
    "#max(accuracies$mean)\n",
    "accuracy_versus_k <- ggplot(accuracies, aes(x = neighbors, y = mean)) +\n",
    "    geom_point() +\n",
    "    geom_line() +\n",
    "    labs(x = \"Neighbors\", y = \"Accuracy Estimate\") +\n",
    "    scale_x_continuous(breaks = seq(0, 20, by = 1)) +  # adjusting the x-axis\n",
    "    scale_y_continuous(limits = c(0.6, 1.0)) # adjusting the y-axis\n",
    "accuracies <- accuracies |>\n",
    "    filter(.metric == \"accuracy\") |>\n",
    "    arrange(mean)\n",
    "tail(accuracies, 1)\n",
    "accuracy_versus_k"
   ]
  },
  {
   "cell_type": "code",
   "execution_count": null,
   "id": "2ecfde27-bcde-40da-91b4-8d41e6425c1a",
   "metadata": {},
   "outputs": [],
   "source": [
    "heart_spec2 <- nearest_neighbor(weight_func = \"rectangular\", neighbors = 15) |>\n",
    "    set_engine(\"kknn\") |>\n",
    "    set_mode(\"classification\")\n",
    "\n",
    "heart_fit <- workflow() |> \n",
    "    add_recipe(heart_recipe) |> \n",
    "    add_model(heart_spec2) |> \n",
    "    fit(data = heart_train)\n",
    "\n",
    "heart_test_predictions <- predict(heart_fit, heart_test) |>\n",
    "    bind_cols(heart_test)\n",
    "\n",
    "heart_predictions_accuracy <- heart_test_predictions |>\n",
    "    metrics(truth = heart_disease_presence, estimate = .pred_class)\n",
    "heart_predictions_accuracy\n",
    "\n",
    "heart_mat <- heart_test_predictions |>\n",
    "    conf_mat(truth = heart_disease_presence, estimate = .pred_class)\n",
    "heart_mat"
   ]
  }
 ],
 "metadata": {
  "kernelspec": {
   "display_name": "R",
   "language": "R",
   "name": "ir"
  },
  "language_info": {
   "codemirror_mode": "r",
   "file_extension": ".r",
   "mimetype": "text/x-r-source",
   "name": "R",
   "pygments_lexer": "r",
   "version": "4.1.3"
  }
 },
 "nbformat": 4,
 "nbformat_minor": 5
}
