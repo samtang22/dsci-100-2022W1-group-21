{
 "cells": [
  {
   "cell_type": "code",
   "execution_count": 2,
   "id": "95f39b4d-39e2-4705-b1db-6090145a680a",
   "metadata": {},
   "outputs": [
    {
     "name": "stderr",
     "output_type": "stream",
     "text": [
      "── \u001b[1mAttaching packages\u001b[22m ─────────────────────────────────────── tidyverse 1.3.1 ──\n",
      "\n",
      "\u001b[32m✔\u001b[39m \u001b[34mggplot2\u001b[39m 3.3.6     \u001b[32m✔\u001b[39m \u001b[34mpurrr  \u001b[39m 0.3.4\n",
      "\u001b[32m✔\u001b[39m \u001b[34mtibble \u001b[39m 3.1.7     \u001b[32m✔\u001b[39m \u001b[34mdplyr  \u001b[39m 1.0.9\n",
      "\u001b[32m✔\u001b[39m \u001b[34mtidyr  \u001b[39m 1.2.0     \u001b[32m✔\u001b[39m \u001b[34mstringr\u001b[39m 1.4.0\n",
      "\u001b[32m✔\u001b[39m \u001b[34mreadr  \u001b[39m 2.1.2     \u001b[32m✔\u001b[39m \u001b[34mforcats\u001b[39m 0.5.1\n",
      "\n",
      "── \u001b[1mConflicts\u001b[22m ────────────────────────────────────────── tidyverse_conflicts() ──\n",
      "\u001b[31m✖\u001b[39m \u001b[34mdplyr\u001b[39m::\u001b[32mfilter()\u001b[39m masks \u001b[34mstats\u001b[39m::filter()\n",
      "\u001b[31m✖\u001b[39m \u001b[34mdplyr\u001b[39m::\u001b[32mlag()\u001b[39m    masks \u001b[34mstats\u001b[39m::lag()\n",
      "\n",
      "── \u001b[1mAttaching packages\u001b[22m ────────────────────────────────────── tidymodels 1.0.0 ──\n",
      "\n",
      "\u001b[32m✔\u001b[39m \u001b[34mbroom       \u001b[39m 1.0.0     \u001b[32m✔\u001b[39m \u001b[34mrsample     \u001b[39m 1.0.0\n",
      "\u001b[32m✔\u001b[39m \u001b[34mdials       \u001b[39m 1.0.0     \u001b[32m✔\u001b[39m \u001b[34mtune        \u001b[39m 1.0.0\n",
      "\u001b[32m✔\u001b[39m \u001b[34minfer       \u001b[39m 1.0.2     \u001b[32m✔\u001b[39m \u001b[34mworkflows   \u001b[39m 1.0.0\n",
      "\u001b[32m✔\u001b[39m \u001b[34mmodeldata   \u001b[39m 1.0.0     \u001b[32m✔\u001b[39m \u001b[34mworkflowsets\u001b[39m 1.0.0\n",
      "\u001b[32m✔\u001b[39m \u001b[34mparsnip     \u001b[39m 1.0.0     \u001b[32m✔\u001b[39m \u001b[34myardstick   \u001b[39m 1.0.0\n",
      "\u001b[32m✔\u001b[39m \u001b[34mrecipes     \u001b[39m 1.0.1     \n",
      "\n",
      "── \u001b[1mConflicts\u001b[22m ───────────────────────────────────────── tidymodels_conflicts() ──\n",
      "\u001b[31m✖\u001b[39m \u001b[34mscales\u001b[39m::\u001b[32mdiscard()\u001b[39m masks \u001b[34mpurrr\u001b[39m::discard()\n",
      "\u001b[31m✖\u001b[39m \u001b[34mdplyr\u001b[39m::\u001b[32mfilter()\u001b[39m   masks \u001b[34mstats\u001b[39m::filter()\n",
      "\u001b[31m✖\u001b[39m \u001b[34mrecipes\u001b[39m::\u001b[32mfixed()\u001b[39m  masks \u001b[34mstringr\u001b[39m::fixed()\n",
      "\u001b[31m✖\u001b[39m \u001b[34mdplyr\u001b[39m::\u001b[32mlag()\u001b[39m      masks \u001b[34mstats\u001b[39m::lag()\n",
      "\u001b[31m✖\u001b[39m \u001b[34myardstick\u001b[39m::\u001b[32mspec()\u001b[39m masks \u001b[34mreadr\u001b[39m::spec()\n",
      "\u001b[31m✖\u001b[39m \u001b[34mrecipes\u001b[39m::\u001b[32mstep()\u001b[39m   masks \u001b[34mstats\u001b[39m::step()\n",
      "\u001b[34m•\u001b[39m Dig deeper into tidy modeling with R at \u001b[32mhttps://www.tmwr.org\u001b[39m\n",
      "\n"
     ]
    }
   ],
   "source": [
    "library(tidyverse)\n",
    "library(repr)\n",
    "library(tidymodels)\n",
    "options(repr.matrix.max.rows = 6)"
   ]
  },
  {
   "cell_type": "code",
   "execution_count": 13,
   "id": "5915c75e-67d2-4b0d-8808-52c8f268bf82",
   "metadata": {},
   "outputs": [
    {
     "name": "stderr",
     "output_type": "stream",
     "text": [
      "\u001b[1mRows: \u001b[22m\u001b[34m303\u001b[39m \u001b[1mColumns: \u001b[22m\u001b[34m14\u001b[39m\n",
      "\u001b[36m──\u001b[39m \u001b[1mColumn specification\u001b[22m \u001b[36m────────────────────────────────────────────────────────\u001b[39m\n",
      "\u001b[1mDelimiter:\u001b[22m \",\"\n",
      "\u001b[31mchr\u001b[39m  (2): X12, X13\n",
      "\u001b[32mdbl\u001b[39m (12): X1, X2, X3, X4, X5, X6, X7, X8, X9, X10, X11, X14\n",
      "\n",
      "\u001b[36mℹ\u001b[39m Use `spec()` to retrieve the full column specification for this data.\n",
      "\u001b[36mℹ\u001b[39m Specify the column types or set `show_col_types = FALSE` to quiet this message.\n"
     ]
    },
    {
     "data": {
      "text/html": [
       "<table class=\"dataframe\">\n",
       "<caption>A tibble: 303 × 7</caption>\n",
       "<thead>\n",
       "\t<tr><th scope=col>age</th><th scope=col>sex</th><th scope=col>resting_blood_pressure</th><th scope=col>serum_cholestoral</th><th scope=col>resting_electrocardiographic_results</th><th scope=col>exercise_induced_angina</th><th scope=col>angiographic_status</th></tr>\n",
       "\t<tr><th scope=col>&lt;dbl&gt;</th><th scope=col>&lt;fct&gt;</th><th scope=col>&lt;dbl&gt;</th><th scope=col>&lt;dbl&gt;</th><th scope=col>&lt;fct&gt;</th><th scope=col>&lt;fct&gt;</th><th scope=col>&lt;fct&gt;</th></tr>\n",
       "</thead>\n",
       "<tbody>\n",
       "\t<tr><td>63</td><td>1</td><td>145</td><td>233</td><td>2</td><td>0</td><td>0</td></tr>\n",
       "\t<tr><td>67</td><td>1</td><td>160</td><td>286</td><td>2</td><td>1</td><td>2</td></tr>\n",
       "\t<tr><td>67</td><td>1</td><td>120</td><td>229</td><td>2</td><td>1</td><td>1</td></tr>\n",
       "\t<tr><td>⋮</td><td>⋮</td><td>⋮</td><td>⋮</td><td>⋮</td><td>⋮</td><td>⋮</td></tr>\n",
       "\t<tr><td>57</td><td>1</td><td>130</td><td>131</td><td>0</td><td>1</td><td>3</td></tr>\n",
       "\t<tr><td>57</td><td>0</td><td>130</td><td>236</td><td>2</td><td>0</td><td>1</td></tr>\n",
       "\t<tr><td>38</td><td>1</td><td>138</td><td>175</td><td>0</td><td>0</td><td>0</td></tr>\n",
       "</tbody>\n",
       "</table>\n"
      ],
      "text/latex": [
       "A tibble: 303 × 7\n",
       "\\begin{tabular}{lllllll}\n",
       " age & sex & resting\\_blood\\_pressure & serum\\_cholestoral & resting\\_electrocardiographic\\_results & exercise\\_induced\\_angina & angiographic\\_status\\\\\n",
       " <dbl> & <fct> & <dbl> & <dbl> & <fct> & <fct> & <fct>\\\\\n",
       "\\hline\n",
       "\t 63 & 1 & 145 & 233 & 2 & 0 & 0\\\\\n",
       "\t 67 & 1 & 160 & 286 & 2 & 1 & 2\\\\\n",
       "\t 67 & 1 & 120 & 229 & 2 & 1 & 1\\\\\n",
       "\t ⋮ & ⋮ & ⋮ & ⋮ & ⋮ & ⋮ & ⋮\\\\\n",
       "\t 57 & 1 & 130 & 131 & 0 & 1 & 3\\\\\n",
       "\t 57 & 0 & 130 & 236 & 2 & 0 & 1\\\\\n",
       "\t 38 & 1 & 138 & 175 & 0 & 0 & 0\\\\\n",
       "\\end{tabular}\n"
      ],
      "text/markdown": [
       "\n",
       "A tibble: 303 × 7\n",
       "\n",
       "| age &lt;dbl&gt; | sex &lt;fct&gt; | resting_blood_pressure &lt;dbl&gt; | serum_cholestoral &lt;dbl&gt; | resting_electrocardiographic_results &lt;fct&gt; | exercise_induced_angina &lt;fct&gt; | angiographic_status &lt;fct&gt; |\n",
       "|---|---|---|---|---|---|---|\n",
       "| 63 | 1 | 145 | 233 | 2 | 0 | 0 |\n",
       "| 67 | 1 | 160 | 286 | 2 | 1 | 2 |\n",
       "| 67 | 1 | 120 | 229 | 2 | 1 | 1 |\n",
       "| ⋮ | ⋮ | ⋮ | ⋮ | ⋮ | ⋮ | ⋮ |\n",
       "| 57 | 1 | 130 | 131 | 0 | 1 | 3 |\n",
       "| 57 | 0 | 130 | 236 | 2 | 0 | 1 |\n",
       "| 38 | 1 | 138 | 175 | 0 | 0 | 0 |\n",
       "\n"
      ],
      "text/plain": [
       "    age sex resting_blood_pressure serum_cholestoral\n",
       "1   63  1   145                    233              \n",
       "2   67  1   160                    286              \n",
       "3   67  1   120                    229              \n",
       "⋮   ⋮   ⋮   ⋮                      ⋮                \n",
       "301 57  1   130                    131              \n",
       "302 57  0   130                    236              \n",
       "303 38  1   138                    175              \n",
       "    resting_electrocardiographic_results exercise_induced_angina\n",
       "1   2                                    0                      \n",
       "2   2                                    1                      \n",
       "3   2                                    1                      \n",
       "⋮   ⋮                                    ⋮                      \n",
       "301 0                                    1                      \n",
       "302 2                                    0                      \n",
       "303 0                                    0                      \n",
       "    angiographic_status\n",
       "1   0                  \n",
       "2   2                  \n",
       "3   1                  \n",
       "⋮   ⋮                  \n",
       "301 3                  \n",
       "302 1                  \n",
       "303 0                  "
      ]
     },
     "metadata": {},
     "output_type": "display_data"
    }
   ],
   "source": [
    "#loading data frame, assigning column names, changing angina column to factor type, & selecting the columns we need\n",
    "heart_data <- read_csv(url(\"https://archive.ics.uci.edu/ml/machine-learning-databases/heart-disease/processed.cleveland.data\"), col_names = FALSE) |>\n",
    "    rename(age=X1, sex=X2,chest_pain_type=X3, resting_blood_pressure=X4, serum_cholestoral=X5, fasting_blood_sugar=X6,\n",
    "           resting_electrocardiographic_results=X7, max_heart_rate=X8, exercise_induced_angina=X9, ST_depression=X10,\n",
    "           slope=X11, number_vessels=X12, thal=X13, angiographic_status=X14) |>\n",
    "    mutate(exercise_induced_angina=as.factor(exercise_induced_angina)) |> \n",
    "    mutate(sex=as.factor(sex)) |>\n",
    "    mutate(resting_electrocardiographic_results=as.factor(resting_electrocardiographic_results)) |>\n",
    "    mutate(angiographic_status=as.factor(angiographic_status)) |>\n",
    "    select(age, sex, resting_blood_pressure, serum_cholestoral, resting_electrocardiographic_results, exercise_induced_angina, angiographic_status)\n",
    "heart_data"
   ]
  },
  {
   "cell_type": "code",
   "execution_count": 6,
   "id": "04d61006-b3ac-4269-9473-f4ea1f1ea62c",
   "metadata": {},
   "outputs": [],
   "source": [
    "#we should make sure 0.75 is an appropriate proportion to use \n",
    "heart_split <- initial_split(heart_data, prop = 0.75, strata = angiographic_status)\n",
    "heart_train <- training(heart_split)\n",
    "heart_test <- testing(heart_split)"
   ]
  },
  {
   "cell_type": "code",
   "execution_count": 14,
   "id": "f5617d45-c451-42a8-9a6f-34c364088924",
   "metadata": {},
   "outputs": [
    {
     "data": {
      "text/html": [
       "<table class=\"dataframe\">\n",
       "<caption>A tibble: 5 × 4</caption>\n",
       "<thead>\n",
       "\t<tr><th scope=col>angiographic_status</th><th scope=col>mean_age</th><th scope=col>mean_cholesteral</th><th scope=col>n</th></tr>\n",
       "\t<tr><th scope=col>&lt;fct&gt;</th><th scope=col>&lt;dbl&gt;</th><th scope=col>&lt;dbl&gt;</th><th scope=col>&lt;int&gt;</th></tr>\n",
       "</thead>\n",
       "<tbody>\n",
       "\t<tr><td>0</td><td>52.2</td><td>239</td><td>122</td></tr>\n",
       "\t<tr><td>1</td><td>55.4</td><td>248</td><td> 40</td></tr>\n",
       "\t<tr><td>2</td><td>56.9</td><td>261</td><td> 27</td></tr>\n",
       "\t<tr><td>3</td><td>54.9</td><td>250</td><td> 27</td></tr>\n",
       "\t<tr><td>4</td><td>59.6</td><td>263</td><td> 10</td></tr>\n",
       "</tbody>\n",
       "</table>\n"
      ],
      "text/latex": [
       "A tibble: 5 × 4\n",
       "\\begin{tabular}{llll}\n",
       " angiographic\\_status & mean\\_age & mean\\_cholesteral & n\\\\\n",
       " <fct> & <dbl> & <dbl> & <int>\\\\\n",
       "\\hline\n",
       "\t 0 & 52.2 & 239 & 122\\\\\n",
       "\t 1 & 55.4 & 248 &  40\\\\\n",
       "\t 2 & 56.9 & 261 &  27\\\\\n",
       "\t 3 & 54.9 & 250 &  27\\\\\n",
       "\t 4 & 59.6 & 263 &  10\\\\\n",
       "\\end{tabular}\n"
      ],
      "text/markdown": [
       "\n",
       "A tibble: 5 × 4\n",
       "\n",
       "| angiographic_status &lt;fct&gt; | mean_age &lt;dbl&gt; | mean_cholesteral &lt;dbl&gt; | n &lt;int&gt; |\n",
       "|---|---|---|---|\n",
       "| 0 | 52.2 | 239 | 122 |\n",
       "| 1 | 55.4 | 248 |  40 |\n",
       "| 2 | 56.9 | 261 |  27 |\n",
       "| 3 | 54.9 | 250 |  27 |\n",
       "| 4 | 59.6 | 263 |  10 |\n",
       "\n"
      ],
      "text/plain": [
       "  angiographic_status mean_age mean_cholesteral n  \n",
       "1 0                   52.2     239              122\n",
       "2 1                   55.4     248               40\n",
       "3 2                   56.9     261               27\n",
       "4 3                   54.9     250               27\n",
       "5 4                   59.6     263               10"
      ]
     },
     "metadata": {},
     "output_type": "display_data"
    }
   ],
   "source": [
    "#i opted not to add sex becuase i thought the chart might be a little too big but feel free to add it to see what it looks like\n",
    "#added rounding because it's harder to read with 6 decimals following each number\n",
    "#not sure if i like having the n=n() - they did suggest it in the assignment but i feel like it doesn't add much value here\n",
    "mean_age_angiographic <- heart_train |>\n",
    "    group_by(angiographic_status) |>\n",
    "    summarize(mean_age=round(mean(age),1), mean_cholesteral = round(mean(serum_cholestoral)), n=n())\n",
    "mean_age_angiographic"
   ]
  },
  {
   "cell_type": "code",
   "execution_count": 32,
   "id": "a9b72ece-bad1-4e85-a3e0-f3da02ca2da7",
   "metadata": {},
   "outputs": [],
   "source": [
    "library(RColorBrewer)\n",
    "#display.brewer.all()"
   ]
  },
  {
   "cell_type": "code",
   "execution_count": 67,
   "id": "5faaa583-72ff-4f2d-9c89-41caef3d26ed",
   "metadata": {},
   "outputs": [
    {
     "data": {
      "image/png": "[encoded data removed]",
      "text/plain": [
       "plot without title"
      ]
     },
     "metadata": {
      "image/png": {
       "height": 540,
       "width": 480
      }
     },
     "output_type": "display_data"
    }
   ],
   "source": [
    "#converts numerical sex value into a letter eg 0 -> F. Creates a new column for it\n",
    "temp_heart_train <- heart_train\n",
    "temp_heart_train[\"sex_letter\"] <- NA\n",
    "for(i in 1:nrow(temp_heart_train)) {\n",
    "    if(temp_heart_train[i, 2] == 0) {\n",
    "        temp_heart_train[i, ncol(temp_heart_train)] <- \"F\"\n",
    "    } else {\n",
    "        temp_heart_train[i, ncol(temp_heart_train)] <- \"M\"\n",
    "    }    \n",
    "}\n",
    "#temp_heart_train\n",
    "options(repr.plot.width = 8, repr.plot.height = 9)\n",
    "heart_plot <- temp_heart_train |> \n",
    "    ggplot(aes(x = sex_letter, fill = angiographic_status)) +\n",
    "    geom_bar(position = \"dodge2\") +\n",
    "    xlab(\"Sex\") +\n",
    "    ylab(\"Number of People\") +\n",
    "    labs(fill = \"Heart Disease Progression\") #not sure if this is the right thing to call it\n",
    "heart_plot"
   ]
  },
  {
   "cell_type": "code",
   "execution_count": null,
   "id": "e527cb10-e032-4462-82f5-a81792c9ffcc",
   "metadata": {},
   "outputs": [],
   "source": []
  }
 ],
 "metadata": {
  "kernelspec": {
   "display_name": "R",
   "language": "R",
   "name": "ir"
  },
  "language_info": {
   "codemirror_mode": "r",
   "file_extension": ".r",
   "mimetype": "text/x-r-source",
   "name": "R",
   "pygments_lexer": "r",
   "version": "4.1.3"
  }
 },
 "nbformat": 4,
 "nbformat_minor": 5
}
